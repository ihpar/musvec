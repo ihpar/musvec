{
 "cells": [
  {
   "cell_type": "code",
   "execution_count": 1,
   "metadata": {},
   "outputs": [],
   "source": [
    "from gensim.models import Word2Vec, FastText\n",
    "import glob\n",
    "from note_reader import get_notes"
   ]
  },
  {
   "cell_type": "code",
   "execution_count": 2,
   "metadata": {},
   "outputs": [],
   "source": [
    "file_list = glob.glob(\"data/txt/*.txt\")"
   ]
  },
  {
   "cell_type": "code",
   "execution_count": 3,
   "metadata": {},
   "outputs": [],
   "source": [
    "docs = get_notes(file_list, as_pitch_classes=True)"
   ]
  },
  {
   "cell_type": "code",
   "execution_count": 4,
   "metadata": {},
   "outputs": [],
   "source": [
    "w2v_model = Word2Vec(sentences=docs, vector_size=50, epochs=10)"
   ]
  },
  {
   "cell_type": "code",
   "execution_count": 5,
   "metadata": {},
   "outputs": [
    {
     "data": {
      "text/plain": [
       "[('F#4', 0.4300253689289093),\n",
       " ('Eb4', 0.2511135935783386),\n",
       " ('Eb1', 0.19390258193016052),\n",
       " ('Bb5', 0.15681758522987366),\n",
       " ('Eb5', 0.15323102474212646),\n",
       " ('Ab4', 0.08846789598464966),\n",
       " ('A', 0.08022525161504745),\n",
       " ('E#4', 0.057010289281606674),\n",
       " ('C#4', 0.012033085338771343),\n",
       " ('Bb4', 0.011051268316805363)]"
      ]
     },
     "execution_count": 5,
     "metadata": {},
     "output_type": "execute_result"
    }
   ],
   "source": [
    "w2v_model.wv.most_similar(positive=[\"G\"])"
   ]
  },
  {
   "cell_type": "code",
   "execution_count": 6,
   "metadata": {},
   "outputs": [],
   "source": [
    "ft_model = FastText(sentences=docs, vector_size=50, epochs=10)"
   ]
  },
  {
   "cell_type": "code",
   "execution_count": 8,
   "metadata": {},
   "outputs": [
    {
     "data": {
      "text/plain": [
       "[('F#4', 0.41548749804496765),\n",
       " ('Eb4', 0.19267885386943817),\n",
       " ('Bb5', 0.16282042860984802),\n",
       " ('Ab4', 0.1499929130077362),\n",
       " ('Eb1', 0.14080627262592316),\n",
       " ('E#4', 0.12632432579994202),\n",
       " ('Eb5', 0.06039716675877571),\n",
       " ('A', 0.03681078553199768),\n",
       " ('Bb4', 0.01627650111913681),\n",
       " ('Cb4', -0.00244335038587451)]"
      ]
     },
     "execution_count": 8,
     "metadata": {},
     "output_type": "execute_result"
    }
   ],
   "source": [
    "ft_model.wv.most_similar(\"G\")"
   ]
  },
  {
   "cell_type": "code",
   "execution_count": null,
   "metadata": {},
   "outputs": [],
   "source": []
  }
 ],
 "metadata": {
  "kernelspec": {
   "display_name": "tfnew",
   "language": "python",
   "name": "python3"
  },
  "language_info": {
   "codemirror_mode": {
    "name": "ipython",
    "version": 3
   },
   "file_extension": ".py",
   "mimetype": "text/x-python",
   "name": "python",
   "nbconvert_exporter": "python",
   "pygments_lexer": "ipython3",
   "version": "3.9.16"
  },
  "orig_nbformat": 4
 },
 "nbformat": 4,
 "nbformat_minor": 2
}
