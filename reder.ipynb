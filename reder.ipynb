{
 "cells": [
  {
   "cell_type": "code",
   "execution_count": 57,
   "metadata": {},
   "outputs": [],
   "source": [
    "from gensim.models import Word2Vec, FastText\n",
    "from sklearn.manifold import TSNE\n",
    "from note_reader import get_notes\n",
    "import matplotlib.pyplot as plt\n",
    "import numpy as np\n",
    "import glob"
   ]
  },
  {
   "cell_type": "code",
   "execution_count": 58,
   "metadata": {},
   "outputs": [],
   "source": [
    "plt.rcParams[\"font.family\"] = [\"Times\"]\n",
    "UNK_TAG = \"<UNK>\""
   ]
  },
  {
   "cell_type": "code",
   "execution_count": 3,
   "metadata": {},
   "outputs": [],
   "source": [
    "file_list = glob.glob(\"data/txt/*.txt\")"
   ]
  },
  {
   "cell_type": "code",
   "execution_count": 4,
   "metadata": {},
   "outputs": [],
   "source": [
    "docs, counts = get_notes(file_list, as_pitch_classes=True, return_counts=True)"
   ]
  },
  {
   "cell_type": "code",
   "execution_count": 5,
   "metadata": {},
   "outputs": [],
   "source": [
    "pitches_sorted = counts.most_common()\n",
    "pitches, pitch_counts = zip(*pitches_sorted)"
   ]
  },
  {
   "cell_type": "code",
   "execution_count": 6,
   "metadata": {},
   "outputs": [
    {
     "data": {
      "image/png": "[encoded data removed]",
      "text/plain": [
       "<Figure size 800x400 with 1 Axes>"
      ]
     },
     "metadata": {},
     "output_type": "display_data"
    }
   ],
   "source": [
    "fig = plt.figure(figsize=(8, 4))\n",
    "plt.title(\"Pitch Class Counts\", fontdict={\"fontsize\": 14})\n",
    "plt.xlabel(\"Pitch classes\")\n",
    "plt.xticks(rotation=-90)\n",
    "plt.ylabel(\"Counts\")\n",
    "plt.gca().yaxis.set_major_formatter(\n",
    "    plt.matplotlib.ticker.StrMethodFormatter(\"{x:,.0f}\"))\n",
    "plt.bar(pitches, pitch_counts)\n",
    "plt.tight_layout()\n",
    "plt.axvline(x=23.5, ymax=0.95, color=\"r\", linestyle=\"--\")\n",
    "plt.text(22.5, 100000, \"threshold\", rotation=90, color=\"r\")\n",
    "plt.show()"
   ]
  },
  {
   "cell_type": "code",
   "execution_count": 7,
   "metadata": {},
   "outputs": [],
   "source": [
    "common_pitches = [x[0] for x in counts.most_common(24)]\n",
    "common_docs = []\n",
    "for doc in docs:\n",
    "    common_doc = [x if x in common_pitches else UNK_TAG for x in doc]\n",
    "    common_docs.append(common_doc)"
   ]
  },
  {
   "cell_type": "markdown",
   "metadata": {},
   "source": [
    "# Word2Vec model\n"
   ]
  },
  {
   "cell_type": "code",
   "execution_count": 8,
   "metadata": {},
   "outputs": [
    {
     "data": {
      "text/plain": [
       "[('Bb1', 0.3025728166103363),\n",
       " ('D', 0.28085964918136597),\n",
       " ('E', 0.20509417355060577)]"
      ]
     },
     "execution_count": 8,
     "metadata": {},
     "output_type": "execute_result"
    }
   ],
   "source": [
    "w2v_model = Word2Vec(sentences=common_docs,\n",
    "                     vector_size=20, epochs=10, window=4)\n",
    "w2v_model.wv.most_similar(positive=[\"C\", \"A\"], negative=[\"G\"], topn=3)  # D"
   ]
  },
  {
   "cell_type": "code",
   "execution_count": 9,
   "metadata": {},
   "outputs": [
    {
     "data": {
      "text/plain": [
       "[('F#4', 0.4212058484554291),\n",
       " ('Bb5', 0.2001620978116989),\n",
       " ('Eb5', 0.18839700520038605),\n",
       " ('Eb4', 0.1767275482416153),\n",
       " ('Ab4', 0.15915179252624512),\n",
       " ('Eb1', 0.12474315613508224),\n",
       " ('E#4', 0.05424543470144272),\n",
       " ('Ab5', 0.002028092509135604),\n",
       " ('C#4', -0.014787702821195126),\n",
       " ('A', -0.04122960567474365)]"
      ]
     },
     "execution_count": 9,
     "metadata": {},
     "output_type": "execute_result"
    }
   ],
   "source": [
    "w2v_model.wv.most_similar(\"G\")"
   ]
  },
  {
   "cell_type": "code",
   "execution_count": 10,
   "metadata": {},
   "outputs": [
    {
     "data": {
      "text/plain": [
       "-0.04122959"
      ]
     },
     "execution_count": 10,
     "metadata": {},
     "output_type": "execute_result"
    }
   ],
   "source": [
    "w2v_model.wv.similarity(\"G\", \"A\")"
   ]
  },
  {
   "cell_type": "markdown",
   "metadata": {},
   "source": [
    "# Find analogies\n",
    "\n",
    "`model.most_similar(positive=[\"woman\", \"king\"], negative=[\"man\"], topn = 1) --> \"queen\"`\n"
   ]
  },
  {
   "cell_type": "code",
   "execution_count": 11,
   "metadata": {},
   "outputs": [
    {
     "data": {
      "text/plain": [
       "[('Bb1', 0.3025728166103363),\n",
       " ('D', 0.28085964918136597),\n",
       " ('E', 0.20509417355060577),\n",
       " ('Db4', 0.17251740396022797),\n",
       " ('A#4', 0.1536262184381485),\n",
       " ('F#1', 0.058404382318258286),\n",
       " ('B', 0.05020546913146973),\n",
       " ('F#5', 0.04194292798638344),\n",
       " ('G#4', 0.03908655047416687),\n",
       " ('Bb5', -0.05747108906507492)]"
      ]
     },
     "execution_count": 11,
     "metadata": {},
     "output_type": "execute_result"
    }
   ],
   "source": [
    "w2v_model.wv.most_similar(positive=[\"C\", \"A\"], negative=[\"G\"])  # D"
   ]
  },
  {
   "cell_type": "markdown",
   "metadata": {},
   "source": [
    "# FastText model\n"
   ]
  },
  {
   "cell_type": "code",
   "execution_count": 12,
   "metadata": {},
   "outputs": [
    {
     "data": {
      "text/plain": [
       "[('D', 0.5423399209976196),\n",
       " ('Bb1', 0.46136024594306946),\n",
       " ('B', 0.41858726739883423),\n",
       " ('Db4', 0.3130931556224823),\n",
       " ('E', 0.2681616246700287),\n",
       " ('G#4', 0.25599679350852966),\n",
       " ('A#4', 0.10863102972507477),\n",
       " ('F#1', 0.06806745380163193),\n",
       " ('Eb5', 0.04122724011540413),\n",
       " ('D#4', -0.049135975539684296)]"
      ]
     },
     "execution_count": 12,
     "metadata": {},
     "output_type": "execute_result"
    }
   ],
   "source": [
    "ft_model = FastText(sentences=common_docs, vector_size=10, epochs=20, window=5)\n",
    "ft_model.wv.most_similar(positive=[\"C\", \"A\"], negative=[\"G\"])  # D"
   ]
  },
  {
   "cell_type": "code",
   "execution_count": 13,
   "metadata": {},
   "outputs": [
    {
     "data": {
      "text/plain": [
       "[('F#4', 0.7132247090339661),\n",
       " ('A', 0.3710966110229492),\n",
       " ('Ab4', 0.3362799882888794),\n",
       " ('Bb5', 0.31971192359924316),\n",
       " ('Eb4', 0.2781490385532379),\n",
       " ('E#4', 0.2165660560131073),\n",
       " ('Bb4', 0.1488109529018402),\n",
       " ('F#1', 0.10673017799854279),\n",
       " ('Ab5', 0.06901639699935913),\n",
       " ('Eb5', 0.038355108350515366)]"
      ]
     },
     "execution_count": 13,
     "metadata": {},
     "output_type": "execute_result"
    }
   ],
   "source": [
    "ft_model.wv.most_similar(\"G\")"
   ]
  },
  {
   "cell_type": "code",
   "execution_count": 14,
   "metadata": {},
   "outputs": [
    {
     "data": {
      "text/plain": [
       "array([-1.0131366 ,  2.3324313 , -0.16943909,  0.96619445,  0.45969436,\n",
       "        2.7423954 , -2.5022283 ,  1.4658468 ,  0.3218776 , -1.8395834 ],\n",
       "      dtype=float32)"
      ]
     },
     "execution_count": 14,
     "metadata": {},
     "output_type": "execute_result"
    }
   ],
   "source": [
    "ft_model.wv[\"G\"]"
   ]
  },
  {
   "cell_type": "code",
   "execution_count": 16,
   "metadata": {},
   "outputs": [
    {
     "data": {
      "text/plain": [
       "44.5021"
      ]
     },
     "execution_count": 16,
     "metadata": {},
     "output_type": "execute_result"
    }
   ],
   "source": [
    "np.rad2deg(np.arccos(ft_model.wv.similarity(\"G\", \"F#4\")))"
   ]
  },
  {
   "cell_type": "code",
   "execution_count": 18,
   "metadata": {},
   "outputs": [
    {
     "data": {
      "text/plain": [
       "[('D', 0.5423399209976196),\n",
       " ('Bb1', 0.46136024594306946),\n",
       " ('B', 0.41858726739883423)]"
      ]
     },
     "execution_count": 18,
     "metadata": {},
     "output_type": "execute_result"
    }
   ],
   "source": [
    "ft_model.wv.most_similar(positive=[\"C\", \"A\"], negative=[\"G\"], topn=3)  # D"
   ]
  },
  {
   "cell_type": "code",
   "execution_count": 25,
   "metadata": {},
   "outputs": [
    {
     "data": {
      "text/plain": [
       "[('Ab4', 0.5095431208610535),\n",
       " ('F', 0.4590824544429779),\n",
       " ('C#4', 0.36908459663391113)]"
      ]
     },
     "execution_count": 25,
     "metadata": {},
     "output_type": "execute_result"
    }
   ],
   "source": [
    "ft_model.wv.most_similar(positive=[\"E\", \"G\"], negative=[\"A\"], topn=3)  # D"
   ]
  },
  {
   "cell_type": "code",
   "execution_count": 27,
   "metadata": {},
   "outputs": [
    {
     "data": {
      "text/plain": [
       "(25, 10)"
      ]
     },
     "execution_count": 27,
     "metadata": {},
     "output_type": "execute_result"
    }
   ],
   "source": [
    "ft_model.wv.vectors.shape"
   ]
  },
  {
   "cell_type": "code",
   "execution_count": 32,
   "metadata": {},
   "outputs": [
    {
     "data": {
      "text/plain": [
       "{'D': 0,\n",
       " 'A': 1,\n",
       " 'G': 2,\n",
       " 'C': 3,\n",
       " 'E': 4,\n",
       " 'Bb1': 5,\n",
       " 'F': 6,\n",
       " 'F#4': 7,\n",
       " 'C#4': 8,\n",
       " 'Bb5': 9,\n",
       " 'Eb4': 10,\n",
       " 'B': 11,\n",
       " 'Bb4': 12,\n",
       " 'Eb5': 13,\n",
       " 'Eb1': 14,\n",
       " 'Db4': 15,\n",
       " 'F#5': 16,\n",
       " 'Ab4': 17,\n",
       " 'G#4': 18,\n",
       " 'Ab5': 19,\n",
       " 'A#4': 20,\n",
       " 'F#1': 21,\n",
       " 'E#4': 22,\n",
       " 'D#4': 23,\n",
       " '<UNK>': 24}"
      ]
     },
     "execution_count": 32,
     "metadata": {},
     "output_type": "execute_result"
    }
   ],
   "source": [
    "ft_model.wv.key_to_index"
   ]
  },
  {
   "cell_type": "code",
   "execution_count": 37,
   "metadata": {},
   "outputs": [],
   "source": [
    "# from: https://stackoverflow.com/questions/2827393/angles-between-two-n-dimensional-vectors-in-python\n",
    "\n",
    "def unit_vector(vector):\n",
    "    return vector / np.linalg.norm(vector)\n",
    "\n",
    "\n",
    "def angle_between(v1, v2):\n",
    "    v1_u = unit_vector(v1)\n",
    "    v2_u = unit_vector(v2)\n",
    "    return np.rad2deg(np.arccos(np.clip(np.dot(v1_u, v2_u), -1.0, 1.0)))"
   ]
  },
  {
   "cell_type": "code",
   "execution_count": 46,
   "metadata": {},
   "outputs": [
    {
     "name": "stdout",
     "output_type": "stream",
     "text": [
      "*** D ***\n",
      "--> D: 0.02\n",
      "--> A: 90.51\n",
      "--> G: 108.38\n",
      "--> C: 44.67\n",
      "--> E: 77.65\n",
      "--> Bb1: 72.93\n",
      "--> F: 78.97\n",
      "--> F#4: 101.52\n",
      "--> C#4: 83.77\n",
      "--> Bb5: 102.47\n",
      "--> Eb4: 81.39\n",
      "--> B: 91.92\n",
      "--> Bb4: 97.74\n",
      "--> Eb5: 85.92\n",
      "--> Eb1: 102.22\n",
      "--> Db4: 101.14\n",
      "--> F#5: 101.39\n",
      "--> Ab4: 87.41\n",
      "--> G#4: 110.58\n",
      "--> Ab5: 105.32\n",
      "--> A#4: 81.47\n",
      "--> F#1: 92.34\n",
      "--> E#4: 132.5\n",
      "--> D#4: 101.23\n",
      "--> <UNK>: 127.28\n",
      "*** A ***\n",
      "--> D: 90.51\n",
      "--> A: 0.0\n",
      "--> G: 68.22\n",
      "--> C: 75.08\n",
      "--> E: 75.4\n",
      "--> Bb1: 86.86\n",
      "--> F: 118.54\n",
      "--> F#4: 75.59\n",
      "--> C#4: 96.05\n",
      "--> Bb5: 78.64\n",
      "--> Eb4: 99.65\n",
      "--> B: 84.83\n",
      "--> Bb4: 87.12\n",
      "--> Eb5: 89.13\n",
      "--> Eb1: 119.89\n",
      "--> Db4: 79.64\n",
      "--> F#5: 107.29\n",
      "--> Ab4: 116.22\n",
      "--> G#4: 71.2\n",
      "--> Ab5: 122.8\n",
      "--> A#4: 108.53\n",
      "--> F#1: 67.2\n",
      "--> E#4: 85.51\n",
      "--> D#4: 121.15\n",
      "--> <UNK>: 125.09\n",
      "*** G ***\n",
      "--> D: 108.38\n",
      "--> A: 68.22\n",
      "--> G: 0.0\n",
      "--> C: 111.93\n",
      "--> E: 99.94\n",
      "--> Bb1: 107.61\n",
      "--> F: 106.21\n",
      "--> F#4: 44.5\n",
      "--> C#4: 90.61\n",
      "--> Bb5: 71.35\n",
      "--> Eb4: 73.85\n",
      "--> B: 120.79\n",
      "--> Bb4: 81.44\n",
      "--> Eb5: 87.8\n",
      "--> Eb1: 92.4\n",
      "--> Db4: 96.63\n",
      "--> F#5: 102.8\n",
      "--> Ab4: 70.35\n",
      "--> G#4: 108.43\n",
      "--> Ab5: 86.04\n",
      "--> A#4: 112.53\n",
      "--> F#1: 83.87\n",
      "--> E#4: 77.49\n",
      "--> D#4: 123.2\n",
      "--> <UNK>: 97.19\n",
      "*** C ***\n",
      "--> D: 44.67\n",
      "--> A: 75.08\n",
      "--> G: 111.93\n",
      "--> C: 0.0\n",
      "--> E: 85.5\n",
      "--> Bb1: 59.45\n",
      "--> F: 93.11\n",
      "--> F#4: 104.77\n",
      "--> C#4: 121.81\n",
      "--> Bb5: 92.85\n",
      "--> Eb4: 86.16\n",
      "--> B: 79.43\n",
      "--> Bb4: 128.53\n",
      "--> Eb5: 84.23\n",
      "--> Eb1: 103.01\n",
      "--> Db4: 73.01\n",
      "--> F#5: 102.94\n",
      "--> Ab4: 89.29\n",
      "--> G#4: 99.1\n",
      "--> Ab5: 95.61\n",
      "--> A#4: 82.04\n",
      "--> F#1: 98.8\n",
      "--> E#4: 126.16\n",
      "--> D#4: 97.04\n",
      "--> <UNK>: 118.41\n",
      "*** E ***\n",
      "--> D: 77.65\n",
      "--> A: 75.4\n",
      "--> G: 99.94\n",
      "--> C: 85.5\n",
      "--> E: 0.0\n",
      "--> Bb1: 102.55\n",
      "--> F: 69.74\n",
      "--> F#4: 127.96\n",
      "--> C#4: 69.92\n",
      "--> Bb5: 107.08\n",
      "--> Eb4: 122.73\n",
      "--> B: 84.21\n",
      "--> Bb4: 77.49\n",
      "--> Eb5: 102.04\n",
      "--> Eb1: 121.7\n",
      "--> Db4: 78.78\n",
      "--> F#5: 93.48\n",
      "--> Ab4: 99.98\n",
      "--> G#4: 69.93\n",
      "--> Ab5: 111.53\n",
      "--> A#4: 110.03\n",
      "--> F#1: 70.79\n",
      "--> E#4: 102.53\n",
      "--> D#4: 85.65\n",
      "--> <UNK>: 120.38\n",
      "*** Bb1 ***\n",
      "--> D: 72.93\n",
      "--> A: 86.86\n",
      "--> G: 107.61\n",
      "--> C: 59.45\n",
      "--> E: 102.55\n",
      "--> Bb1: 0.02\n",
      "--> F: 105.58\n",
      "--> F#4: 85.11\n",
      "--> C#4: 116.49\n",
      "--> Bb5: 104.37\n",
      "--> Eb4: 66.14\n",
      "--> B: 101.27\n",
      "--> Bb4: 99.77\n",
      "--> Eb5: 100.91\n",
      "--> Eb1: 73.08\n",
      "--> Db4: 67.0\n",
      "--> F#5: 109.98\n",
      "--> Ab4: 78.48\n",
      "--> G#4: 109.9\n",
      "--> Ab5: 107.76\n",
      "--> A#4: 58.15\n",
      "--> F#1: 101.31\n",
      "--> E#4: 85.25\n",
      "--> D#4: 101.27\n",
      "--> <UNK>: 104.11\n",
      "*** F ***\n",
      "--> D: 78.97\n",
      "--> A: 118.54\n",
      "--> G: 106.21\n",
      "--> C: 93.11\n",
      "--> E: 69.74\n",
      "--> Bb1: 105.58\n",
      "--> F: 0.0\n",
      "--> F#4: 133.56\n",
      "--> C#4: 77.51\n",
      "--> Bb5: 80.08\n",
      "--> Eb4: 120.21\n",
      "--> B: 108.55\n",
      "--> Bb4: 76.7\n",
      "--> Eb5: 95.61\n",
      "--> Eb1: 90.11\n",
      "--> Db4: 71.88\n",
      "--> F#5: 95.58\n",
      "--> Ab4: 78.36\n",
      "--> G#4: 87.47\n",
      "--> Ab5: 75.98\n",
      "--> A#4: 115.65\n",
      "--> F#1: 84.52\n",
      "--> E#4: 126.66\n",
      "--> D#4: 63.89\n",
      "--> <UNK>: 72.08\n",
      "*** F#4 ***\n",
      "--> D: 101.52\n",
      "--> A: 75.59\n",
      "--> G: 44.5\n",
      "--> C: 104.77\n",
      "--> E: 127.96\n",
      "--> Bb1: 85.11\n",
      "--> F: 133.56\n",
      "--> F#4: 0.0\n",
      "--> C#4: 90.89\n",
      "--> Bb5: 88.69\n",
      "--> Eb4: 54.37\n",
      "--> B: 104.37\n",
      "--> Bb4: 86.61\n",
      "--> Eb5: 89.51\n",
      "--> Eb1: 76.65\n",
      "--> Db4: 113.47\n",
      "--> F#5: 93.64\n",
      "--> Ab4: 83.36\n",
      "--> G#4: 110.38\n",
      "--> Ab5: 94.65\n",
      "--> A#4: 74.55\n",
      "--> F#1: 87.47\n",
      "--> E#4: 59.14\n",
      "--> D#4: 118.54\n",
      "--> <UNK>: 95.9\n",
      "*** C#4 ***\n",
      "--> D: 83.77\n",
      "--> A: 96.05\n",
      "--> G: 90.61\n",
      "--> C: 121.81\n",
      "--> E: 69.92\n",
      "--> Bb1: 116.49\n",
      "--> F: 77.51\n",
      "--> F#4: 90.89\n",
      "--> C#4: 0.03\n",
      "--> Bb5: 105.06\n",
      "--> Eb4: 104.08\n",
      "--> B: 85.7\n",
      "--> Bb4: 37.53\n",
      "--> Eb5: 101.57\n",
      "--> Eb1: 103.4\n",
      "--> Db4: 124.79\n",
      "--> F#5: 73.2\n",
      "--> Ab4: 114.09\n",
      "--> G#4: 74.13\n",
      "--> Ab5: 116.07\n",
      "--> A#4: 92.23\n",
      "--> F#1: 66.2\n",
      "--> E#4: 82.3\n",
      "--> D#4: 83.84\n",
      "--> <UNK>: 95.53\n",
      "*** Bb5 ***\n",
      "--> D: 102.47\n",
      "--> A: 78.64\n",
      "--> G: 71.35\n",
      "--> C: 92.85\n",
      "--> E: 107.08\n",
      "--> Bb1: 104.37\n",
      "--> F: 80.08\n",
      "--> F#4: 88.69\n",
      "--> C#4: 105.06\n",
      "--> Bb5: 0.02\n",
      "--> Eb4: 85.64\n",
      "--> B: 103.15\n",
      "--> Bb4: 86.47\n",
      "--> Eb5: 54.87\n",
      "--> Eb1: 93.35\n",
      "--> Db4: 81.22\n",
      "--> F#5: 102.5\n",
      "--> Ab4: 83.22\n",
      "--> G#4: 95.51\n",
      "--> Ab5: 68.76\n",
      "--> A#4: 137.09\n",
      "--> F#1: 107.77\n",
      "--> E#4: 112.67\n",
      "--> D#4: 112.8\n",
      "--> <UNK>: 67.26\n",
      "*** Eb4 ***\n",
      "--> D: 81.39\n",
      "--> A: 99.65\n",
      "--> G: 73.85\n",
      "--> C: 86.16\n",
      "--> E: 122.73\n",
      "--> Bb1: 66.14\n",
      "--> F: 120.21\n",
      "--> F#4: 54.37\n",
      "--> C#4: 104.08\n",
      "--> Bb5: 85.64\n",
      "--> Eb4: 0.0\n",
      "--> B: 103.29\n",
      "--> Bb4: 99.51\n",
      "--> Eb5: 70.68\n",
      "--> Eb1: 72.28\n",
      "--> Db4: 112.39\n",
      "--> F#5: 92.55\n",
      "--> Ab4: 55.96\n",
      "--> G#4: 145.42\n",
      "--> Ab5: 80.51\n",
      "--> A#4: 71.37\n",
      "--> F#1: 133.18\n",
      "--> E#4: 83.93\n",
      "--> D#4: 127.98\n",
      "--> <UNK>: 94.85\n",
      "*** B ***\n",
      "--> D: 91.92\n",
      "--> A: 84.83\n",
      "--> G: 120.79\n",
      "--> C: 79.43\n",
      "--> E: 84.21\n",
      "--> Bb1: 101.27\n",
      "--> F: 108.55\n",
      "--> F#4: 104.37\n",
      "--> C#4: 85.7\n",
      "--> Bb5: 103.15\n",
      "--> Eb4: 103.29\n",
      "--> B: 0.03\n",
      "--> Bb4: 106.91\n",
      "--> Eb5: 87.73\n",
      "--> Eb1: 113.37\n",
      "--> Db4: 104.1\n",
      "--> F#5: 45.92\n",
      "--> Ab4: 129.44\n",
      "--> G#4: 53.52\n",
      "--> Ab5: 94.61\n",
      "--> A#4: 75.01\n",
      "--> F#1: 93.48\n",
      "--> E#4: 83.03\n",
      "--> D#4: 67.79\n",
      "--> <UNK>: 86.6\n",
      "*** Bb4 ***\n",
      "--> D: 97.74\n",
      "--> A: 87.12\n",
      "--> G: 81.44\n",
      "--> C: 128.53\n",
      "--> E: 77.49\n",
      "--> Bb1: 99.77\n",
      "--> F: 76.7\n",
      "--> F#4: 86.61\n",
      "--> C#4: 37.53\n",
      "--> Bb5: 86.47\n",
      "--> Eb4: 99.51\n",
      "--> B: 106.91\n",
      "--> Bb4: 0.0\n",
      "--> Eb5: 103.34\n",
      "--> Eb1: 96.48\n",
      "--> Db4: 100.96\n",
      "--> F#5: 90.76\n",
      "--> Ab4: 105.24\n",
      "--> G#4: 79.69\n",
      "--> Ab5: 121.52\n",
      "--> A#4: 104.42\n",
      "--> F#1: 70.45\n",
      "--> E#4: 77.62\n",
      "--> D#4: 97.59\n",
      "--> <UNK>: 87.65\n",
      "*** Eb5 ***\n",
      "--> D: 85.92\n",
      "--> A: 89.13\n",
      "--> G: 87.8\n",
      "--> C: 84.23\n",
      "--> E: 102.04\n",
      "--> Bb1: 100.91\n",
      "--> F: 95.61\n",
      "--> F#4: 89.51\n",
      "--> C#4: 101.57\n",
      "--> Bb5: 54.87\n",
      "--> Eb4: 70.68\n",
      "--> B: 87.73\n",
      "--> Bb4: 103.34\n",
      "--> Eb5: 0.0\n",
      "--> Eb1: 73.65\n",
      "--> Db4: 110.32\n",
      "--> F#5: 107.56\n",
      "--> Ab4: 84.61\n",
      "--> G#4: 102.48\n",
      "--> Ab5: 58.03\n",
      "--> A#4: 102.95\n",
      "--> F#1: 110.98\n",
      "--> E#4: 105.8\n",
      "--> D#4: 113.12\n",
      "--> <UNK>: 86.5\n",
      "*** Eb1 ***\n",
      "--> D: 102.22\n",
      "--> A: 119.89\n",
      "--> G: 92.4\n",
      "--> C: 103.01\n",
      "--> E: 121.7\n",
      "--> Bb1: 73.08\n",
      "--> F: 90.11\n",
      "--> F#4: 76.65\n",
      "--> C#4: 103.4\n",
      "--> Bb5: 93.35\n",
      "--> Eb4: 72.28\n",
      "--> B: 113.37\n",
      "--> Bb4: 96.48\n",
      "--> Eb5: 73.65\n",
      "--> Eb1: 0.02\n",
      "--> Db4: 92.26\n",
      "--> F#5: 114.27\n",
      "--> Ab4: 69.3\n",
      "--> G#4: 107.87\n",
      "--> Ab5: 59.97\n",
      "--> A#4: 61.73\n",
      "--> F#1: 91.57\n",
      "--> E#4: 70.79\n",
      "--> D#4: 81.26\n",
      "--> <UNK>: 69.27\n",
      "*** Db4 ***\n",
      "--> D: 101.14\n",
      "--> A: 79.64\n",
      "--> G: 96.63\n",
      "--> C: 73.01\n",
      "--> E: 78.78\n",
      "--> Bb1: 67.0\n",
      "--> F: 71.88\n",
      "--> F#4: 113.47\n",
      "--> C#4: 124.79\n",
      "--> Bb5: 81.22\n",
      "--> Eb4: 112.39\n",
      "--> B: 104.1\n",
      "--> Bb4: 100.96\n",
      "--> Eb5: 110.32\n",
      "--> Eb1: 92.26\n",
      "--> Db4: 0.02\n",
      "--> F#5: 107.38\n",
      "--> Ab4: 79.41\n",
      "--> G#4: 80.49\n",
      "--> Ab5: 89.93\n",
      "--> A#4: 104.47\n",
      "--> F#1: 85.48\n",
      "--> E#4: 97.93\n",
      "--> D#4: 78.17\n",
      "--> <UNK>: 82.72\n",
      "*** F#5 ***\n",
      "--> D: 101.39\n",
      "--> A: 107.29\n",
      "--> G: 102.8\n",
      "--> C: 102.94\n",
      "--> E: 93.48\n",
      "--> Bb1: 109.98\n",
      "--> F: 95.58\n",
      "--> F#4: 93.64\n",
      "--> C#4: 73.2\n",
      "--> Bb5: 102.5\n",
      "--> Eb4: 92.55\n",
      "--> B: 45.92\n",
      "--> Bb4: 90.76\n",
      "--> Eb5: 107.56\n",
      "--> Eb1: 114.27\n",
      "--> Db4: 107.38\n",
      "--> F#5: 0.0\n",
      "--> Ab4: 103.76\n",
      "--> G#4: 73.17\n",
      "--> Ab5: 89.49\n",
      "--> A#4: 80.23\n",
      "--> F#1: 105.35\n",
      "--> E#4: 79.53\n",
      "--> D#4: 64.05\n",
      "--> <UNK>: 67.48\n",
      "*** Ab4 ***\n",
      "--> D: 87.41\n",
      "--> A: 116.22\n",
      "--> G: 70.35\n",
      "--> C: 89.29\n",
      "--> E: 99.98\n",
      "--> Bb1: 78.48\n",
      "--> F: 78.36\n",
      "--> F#4: 83.36\n",
      "--> C#4: 114.09\n",
      "--> Bb5: 83.22\n",
      "--> Eb4: 55.96\n",
      "--> B: 129.44\n",
      "--> Bb4: 105.24\n",
      "--> Eb5: 84.61\n",
      "--> Eb1: 69.3\n",
      "--> Db4: 79.41\n",
      "--> F#5: 103.76\n",
      "--> Ab4: 0.02\n",
      "--> G#4: 146.97\n",
      "--> Ab5: 58.22\n",
      "--> A#4: 93.85\n",
      "--> F#1: 123.79\n",
      "--> E#4: 101.68\n",
      "--> D#4: 103.79\n",
      "--> <UNK>: 83.98\n",
      "*** G#4 ***\n",
      "--> D: 110.58\n",
      "--> A: 71.2\n",
      "--> G: 108.43\n",
      "--> C: 99.1\n",
      "--> E: 69.93\n",
      "--> Bb1: 109.9\n",
      "--> F: 87.47\n",
      "--> F#4: 110.38\n",
      "--> C#4: 74.13\n",
      "--> Bb5: 95.51\n",
      "--> Eb4: 145.42\n",
      "--> B: 53.52\n",
      "--> Bb4: 79.69\n",
      "--> Eb5: 102.48\n",
      "--> Eb1: 107.87\n",
      "--> Db4: 80.49\n",
      "--> F#5: 73.17\n",
      "--> Ab4: 146.97\n",
      "--> G#4: 0.03\n",
      "--> Ab5: 105.62\n",
      "--> A#4: 95.03\n",
      "--> F#1: 52.77\n",
      "--> E#4: 74.9\n",
      "--> D#4: 57.14\n",
      "--> <UNK>: 81.74\n",
      "*** Ab5 ***\n",
      "--> D: 105.32\n",
      "--> A: 122.8\n",
      "--> G: 86.04\n",
      "--> C: 95.61\n",
      "--> E: 111.53\n",
      "--> Bb1: 107.76\n",
      "--> F: 75.98\n",
      "--> F#4: 94.65\n",
      "--> C#4: 116.07\n",
      "--> Bb5: 68.76\n",
      "--> Eb4: 80.51\n",
      "--> B: 94.61\n",
      "--> Bb4: 121.52\n",
      "--> Eb5: 58.03\n",
      "--> Eb1: 59.97\n",
      "--> Db4: 89.93\n",
      "--> F#5: 89.49\n",
      "--> Ab4: 58.22\n",
      "--> G#4: 105.62\n",
      "--> Ab5: 0.03\n",
      "--> A#4: 95.52\n",
      "--> F#1: 114.69\n",
      "--> E#4: 99.71\n",
      "--> D#4: 76.13\n",
      "--> <UNK>: 54.47\n",
      "*** A#4 ***\n",
      "--> D: 81.47\n",
      "--> A: 108.53\n",
      "--> G: 112.53\n",
      "--> C: 82.04\n",
      "--> E: 110.03\n",
      "--> Bb1: 58.15\n",
      "--> F: 115.65\n",
      "--> F#4: 74.55\n",
      "--> C#4: 92.23\n",
      "--> Bb5: 137.09\n",
      "--> Eb4: 71.37\n",
      "--> B: 75.01\n",
      "--> Bb4: 104.42\n",
      "--> Eb5: 102.95\n",
      "--> Eb1: 61.73\n",
      "--> Db4: 104.47\n",
      "--> F#5: 80.23\n",
      "--> Ab4: 93.85\n",
      "--> G#4: 95.03\n",
      "--> Ab5: 95.52\n",
      "--> A#4: 0.02\n",
      "--> F#1: 88.79\n",
      "--> E#4: 61.26\n",
      "--> D#4: 72.83\n",
      "--> <UNK>: 94.38\n",
      "*** F#1 ***\n",
      "--> D: 92.34\n",
      "--> A: 67.2\n",
      "--> G: 83.87\n",
      "--> C: 98.8\n",
      "--> E: 70.79\n",
      "--> Bb1: 101.31\n",
      "--> F: 84.52\n",
      "--> F#4: 87.47\n",
      "--> C#4: 66.2\n",
      "--> Bb5: 107.77\n",
      "--> Eb4: 133.18\n",
      "--> B: 93.48\n",
      "--> Bb4: 70.45\n",
      "--> Eb5: 110.98\n",
      "--> Eb1: 91.57\n",
      "--> Db4: 85.48\n",
      "--> F#5: 105.35\n",
      "--> Ab4: 123.79\n",
      "--> G#4: 52.77\n",
      "--> Ab5: 114.69\n",
      "--> A#4: 88.79\n",
      "--> F#1: 0.0\n",
      "--> E#4: 75.56\n",
      "--> D#4: 73.3\n",
      "--> <UNK>: 106.29\n",
      "*** E#4 ***\n",
      "--> D: 132.5\n",
      "--> A: 85.51\n",
      "--> G: 77.49\n",
      "--> C: 126.16\n",
      "--> E: 102.53\n",
      "--> Bb1: 85.25\n",
      "--> F: 126.66\n",
      "--> F#4: 59.14\n",
      "--> C#4: 82.3\n",
      "--> Bb5: 112.67\n",
      "--> Eb4: 83.93\n",
      "--> B: 83.03\n",
      "--> Bb4: 77.62\n",
      "--> Eb5: 105.8\n",
      "--> Eb1: 70.79\n",
      "--> Db4: 97.93\n",
      "--> F#5: 79.53\n",
      "--> Ab4: 101.68\n",
      "--> G#4: 74.9\n",
      "--> Ab5: 99.71\n",
      "--> A#4: 61.26\n",
      "--> F#1: 75.56\n",
      "--> E#4: 0.0\n",
      "--> D#4: 83.98\n",
      "--> <UNK>: 81.78\n",
      "*** D#4 ***\n",
      "--> D: 101.23\n",
      "--> A: 121.15\n",
      "--> G: 123.2\n",
      "--> C: 97.04\n",
      "--> E: 85.65\n",
      "--> Bb1: 101.27\n",
      "--> F: 63.89\n",
      "--> F#4: 118.54\n",
      "--> C#4: 83.84\n",
      "--> Bb5: 112.8\n",
      "--> Eb4: 127.98\n",
      "--> B: 67.79\n",
      "--> Bb4: 97.59\n",
      "--> Eb5: 113.12\n",
      "--> Eb1: 81.26\n",
      "--> Db4: 78.17\n",
      "--> F#5: 64.05\n",
      "--> Ab4: 103.79\n",
      "--> G#4: 57.14\n",
      "--> Ab5: 76.13\n",
      "--> A#4: 72.83\n",
      "--> F#1: 73.3\n",
      "--> E#4: 83.98\n",
      "--> D#4: 0.0\n",
      "--> <UNK>: 59.8\n",
      "*** <UNK> ***\n",
      "--> D: 127.28\n",
      "--> A: 125.09\n",
      "--> G: 97.19\n",
      "--> C: 118.41\n",
      "--> E: 120.38\n",
      "--> Bb1: 104.11\n",
      "--> F: 72.08\n",
      "--> F#4: 95.9\n",
      "--> C#4: 95.53\n",
      "--> Bb5: 67.26\n",
      "--> Eb4: 94.85\n",
      "--> B: 86.6\n",
      "--> Bb4: 87.65\n",
      "--> Eb5: 86.5\n",
      "--> Eb1: 69.27\n",
      "--> Db4: 82.72\n",
      "--> F#5: 67.48\n",
      "--> Ab4: 83.98\n",
      "--> G#4: 81.74\n",
      "--> Ab5: 54.47\n",
      "--> A#4: 94.38\n",
      "--> F#1: 106.29\n",
      "--> E#4: 81.78\n",
      "--> D#4: 59.8\n",
      "--> <UNK>: 0.03\n"
     ]
    }
   ],
   "source": [
    "for current in ft_model.wv.key_to_index:\n",
    "    print(f\"*** {current} ***\")\n",
    "    for pitch in ft_model.wv.key_to_index:\n",
    "        print(\n",
    "            f\"--> {pitch}: {round(angle_between(ft_model.wv[current], ft_model.wv[pitch]), 2)}\")"
   ]
  },
  {
   "cell_type": "code",
   "execution_count": 62,
   "metadata": {},
   "outputs": [
    {
     "name": "stderr",
     "output_type": "stream",
     "text": [
      "/Users/ihp/opt/miniconda3/envs/tfnew/lib/python3.9/site-packages/sklearn/manifold/_t_sne.py:800: FutureWarning: The default initialization in TSNE will change from 'random' to 'pca' in 1.2.\n",
      "  warnings.warn(\n",
      "/Users/ihp/opt/miniconda3/envs/tfnew/lib/python3.9/site-packages/sklearn/manifold/_t_sne.py:810: FutureWarning: The default learning rate in TSNE will change from 200.0 to 'auto' in 1.2.\n",
      "  warnings.warn(\n"
     ]
    }
   ],
   "source": [
    "def reduce_dimensions(model):\n",
    "    num_dimensions = 2  # final num dimensions (2D, 3D, etc)\n",
    "\n",
    "    # extract the words & their vectors, as numpy arrays\n",
    "    vectors = np.asarray(model.wv.vectors)\n",
    "    labels = np.asarray(model.wv.index_to_key)  # fixed-width numpy strings\n",
    "\n",
    "    # reduce using t-SNE\n",
    "    tsne = TSNE(n_components=num_dimensions, perplexity=15)\n",
    "    vectors = tsne.fit_transform(vectors)\n",
    "\n",
    "    x_vals = [v[0] for v in vectors]\n",
    "    y_vals = [v[1] for v in vectors]\n",
    "    return x_vals, y_vals, labels\n",
    "\n",
    "x_vals, y_vals, labels = reduce_dimensions(ft_model)"
   ]
  },
  {
   "cell_type": "code",
   "execution_count": 63,
   "metadata": {},
   "outputs": [
    {
     "data": {
      "image/png": "[encoded data removed]",
      "text/plain": [
       "<Figure size 1200x1200 with 1 Axes>"
      ]
     },
     "metadata": {},
     "output_type": "display_data"
    }
   ],
   "source": [
    "plt.figure(figsize=(12, 12))\n",
    "plt.scatter(x_vals, y_vals)\n",
    "\n",
    "for i in range(len(labels)):\n",
    "    plt.annotate(labels[i], (x_vals[i], y_vals[i]))"
   ]
  },
  {
   "cell_type": "code",
   "execution_count": null,
   "metadata": {},
   "outputs": [],
   "source": []
  }
 ],
 "metadata": {
  "kernelspec": {
   "display_name": "tfnew",
   "language": "python",
   "name": "python3"
  },
  "language_info": {
   "codemirror_mode": {
    "name": "ipython",
    "version": 3
   },
   "file_extension": ".py",
   "mimetype": "text/x-python",
   "name": "python",
   "nbconvert_exporter": "python",
   "pygments_lexer": "ipython3",
   "version": "3.9.16"
  },
  "orig_nbformat": 4
 },
 "nbformat": 4,
 "nbformat_minor": 2
}
