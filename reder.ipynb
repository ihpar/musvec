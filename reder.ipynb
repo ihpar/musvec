{
 "cells": [
  {
   "cell_type": "code",
   "execution_count": 1,
   "metadata": {},
   "outputs": [],
   "source": [
    "from gensim.models import Word2Vec, FastText\n",
    "from sklearn.manifold import TSNE\n",
    "from note_reader import get_notes_as_pitch_classes\n",
    "import matplotlib.pyplot as plt\n",
    "import numpy as np\n",
    "import glob"
   ]
  },
  {
   "cell_type": "code",
   "execution_count": 2,
   "metadata": {},
   "outputs": [],
   "source": [
    "plt.rcParams[\"font.family\"] = [\"Times\"]\n",
    "UNK_TAG = \"<UNK>\""
   ]
  },
  {
   "cell_type": "code",
   "execution_count": 3,
   "metadata": {},
   "outputs": [],
   "source": [
    "file_list = glob.glob(\"data/txt/*.txt\")"
   ]
  },
  {
   "cell_type": "code",
   "execution_count": 4,
   "metadata": {},
   "outputs": [],
   "source": [
    "docs, counts = get_notes_as_pitch_classes(file_list)"
   ]
  },
  {
   "cell_type": "code",
   "execution_count": 5,
   "metadata": {},
   "outputs": [],
   "source": [
    "pitches_sorted = counts.most_common()\n",
    "pitches, pitch_counts = zip(*pitches_sorted)"
   ]
  },
  {
   "cell_type": "code",
   "execution_count": 6,
   "metadata": {},
   "outputs": [
    {
     "data": {
      "text/plain": [
       "[('D', 141246),\n",
       " ('A', 110227),\n",
       " ('G', 109868),\n",
       " ('C', 101624),\n",
       " ('E', 81186),\n",
       " ('A#8', 62424),\n",
       " ('F', 49658),\n",
       " ('F#4', 47143),\n",
       " ('A#4', 23949),\n",
       " ('C#4', 23292),\n",
       " ('D#5', 18455),\n",
       " ('B', 16905),\n",
       " ('A#5', 14183),\n",
       " ('D#4', 11217),\n",
       " ('D#8', 8984),\n",
       " ('G#4', 8679),\n",
       " ('C#5', 6062),\n",
       " ('F#5', 5927),\n",
       " ('G#5', 5474),\n",
       " ('F#1', 2384),\n",
       " ('G#8', 287),\n",
       " ('C#8', 127),\n",
       " ('B#3', 15),\n",
       " ('F#8', 6)]"
      ]
     },
     "execution_count": 6,
     "metadata": {},
     "output_type": "execute_result"
    }
   ],
   "source": [
    "pitches_sorted"
   ]
  },
  {
   "cell_type": "code",
   "execution_count": 16,
   "metadata": {},
   "outputs": [],
   "source": [
    "THRESHOLD = 20"
   ]
  },
  {
   "cell_type": "code",
   "execution_count": 17,
   "metadata": {},
   "outputs": [
    {
     "data": {
      "image/png": "[encoded data removed]",
      "text/plain": [
       "<Figure size 800x400 with 1 Axes>"
      ]
     },
     "metadata": {},
     "output_type": "display_data"
    }
   ],
   "source": [
    "fig = plt.figure(figsize=(8, 4))\n",
    "plt.title(\"Pitch Class Counts\", fontdict={\"fontsize\": 14})\n",
    "plt.xlabel(\"Pitch classes\")\n",
    "plt.xticks(rotation=-90)\n",
    "plt.ylabel(\"Counts\")\n",
    "plt.gca().yaxis.set_major_formatter(\n",
    "    plt.matplotlib.ticker.StrMethodFormatter(\"{x:,.0f}\"))\n",
    "plt.bar(pitches, pitch_counts)\n",
    "plt.tight_layout()\n",
    "plt.axvline(x=THRESHOLD-0.5, ymax=0.95, color=\"r\", linestyle=\"--\")\n",
    "plt.text(THRESHOLD-1.5, 100000, \"threshold\", rotation=90, color=\"r\")\n",
    "plt.show()"
   ]
  },
  {
   "cell_type": "code",
   "execution_count": 18,
   "metadata": {},
   "outputs": [],
   "source": [
    "common_pitches = [x[0] for x in counts.most_common(THRESHOLD)]\n",
    "common_docs = []\n",
    "for doc in docs:\n",
    "    common_doc = [x if x in common_pitches else UNK_TAG for x in doc]\n",
    "    common_docs.append(common_doc)"
   ]
  },
  {
   "cell_type": "markdown",
   "metadata": {},
   "source": [
    "# Word2Vec model\n"
   ]
  },
  {
   "cell_type": "code",
   "execution_count": 19,
   "metadata": {},
   "outputs": [
    {
     "data": {
      "text/plain": [
       "[('A#8', 0.3907223641872406),\n",
       " ('D', 0.2774919867515564),\n",
       " ('E', 0.24971459805965424)]"
      ]
     },
     "execution_count": 19,
     "metadata": {},
     "output_type": "execute_result"
    }
   ],
   "source": [
    "w2v_model = Word2Vec(sentences=common_docs,\n",
    "                     vector_size=20, epochs=10, window=4)\n",
    "w2v_model.wv.most_similar(positive=[\"C\", \"A\"], negative=[\"G\"], topn=3)  # D"
   ]
  },
  {
   "cell_type": "code",
   "execution_count": null,
   "metadata": {},
   "outputs": [],
   "source": [
    "w2v_model.wv.most_similar(\"G\")"
   ]
  },
  {
   "cell_type": "code",
   "execution_count": null,
   "metadata": {},
   "outputs": [],
   "source": [
    "w2v_model.wv.similarity(\"G\", \"A\")"
   ]
  },
  {
   "cell_type": "markdown",
   "metadata": {},
   "source": [
    "# Find analogies\n",
    "\n",
    "`model.most_similar(positive=[\"woman\", \"king\"], negative=[\"man\"], topn = 1) --> \"queen\"`\n"
   ]
  },
  {
   "cell_type": "code",
   "execution_count": null,
   "metadata": {},
   "outputs": [],
   "source": [
    "w2v_model.wv.most_similar(positive=[\"C\", \"A\"], negative=[\"G\"])  # D"
   ]
  },
  {
   "cell_type": "markdown",
   "metadata": {},
   "source": [
    "# FastText model\n"
   ]
  },
  {
   "cell_type": "code",
   "execution_count": null,
   "metadata": {},
   "outputs": [],
   "source": [
    "ft_model = FastText(sentences=common_docs, vector_size=10, epochs=20, window=5)\n",
    "ft_model.wv.most_similar(positive=[\"C\", \"A\"], negative=[\"G\"])  # D"
   ]
  },
  {
   "cell_type": "code",
   "execution_count": null,
   "metadata": {},
   "outputs": [],
   "source": [
    "ft_model.wv.most_similar(\"G\")"
   ]
  },
  {
   "cell_type": "code",
   "execution_count": null,
   "metadata": {},
   "outputs": [],
   "source": [
    "ft_model.wv[\"G\"]"
   ]
  },
  {
   "cell_type": "code",
   "execution_count": null,
   "metadata": {},
   "outputs": [],
   "source": [
    "np.rad2deg(np.arccos(ft_model.wv.similarity(\"G\", \"F#4\")))"
   ]
  },
  {
   "cell_type": "code",
   "execution_count": null,
   "metadata": {},
   "outputs": [],
   "source": [
    "ft_model.wv.most_similar(positive=[\"C\", \"A\"], negative=[\"G\"], topn=3)  # D"
   ]
  },
  {
   "cell_type": "code",
   "execution_count": null,
   "metadata": {},
   "outputs": [],
   "source": [
    "ft_model.wv.most_similar(positive=[\"E\", \"G\"], negative=[\"A\"], topn=3)  # D"
   ]
  },
  {
   "cell_type": "code",
   "execution_count": null,
   "metadata": {},
   "outputs": [],
   "source": [
    "ft_model.wv.vectors.shape"
   ]
  },
  {
   "cell_type": "code",
   "execution_count": null,
   "metadata": {},
   "outputs": [],
   "source": [
    "ft_model.wv.key_to_index"
   ]
  },
  {
   "cell_type": "code",
   "execution_count": null,
   "metadata": {},
   "outputs": [],
   "source": [
    "# from: https://stackoverflow.com/questions/2827393/angles-between-two-n-dimensional-vectors-in-python\n",
    "\n",
    "def unit_vector(vector):\n",
    "    return vector / np.linalg.norm(vector)\n",
    "\n",
    "\n",
    "def angle_between(v1, v2):\n",
    "    v1_u = unit_vector(v1)\n",
    "    v2_u = unit_vector(v2)\n",
    "    return np.rad2deg(np.arccos(np.clip(np.dot(v1_u, v2_u), -1.0, 1.0)))"
   ]
  },
  {
   "cell_type": "code",
   "execution_count": null,
   "metadata": {},
   "outputs": [],
   "source": [
    "for current in ft_model.wv.key_to_index:\n",
    "    print(f\"*** {current} ***\")\n",
    "    for pitch in ft_model.wv.key_to_index:\n",
    "        print(\n",
    "            f\"--> {pitch}: {round(angle_between(ft_model.wv[current], ft_model.wv[pitch]), 2)}\")"
   ]
  },
  {
   "cell_type": "code",
   "execution_count": null,
   "metadata": {},
   "outputs": [],
   "source": [
    "def reduce_dimensions(model):\n",
    "    num_dimensions = 2\n",
    "\n",
    "    vectors = np.asarray(model.wv.vectors)\n",
    "    labels = np.asarray(model.wv.index_to_key)\n",
    "\n",
    "    tsne = TSNE(n_components=num_dimensions, perplexity=2, n_iter=1000)\n",
    "    vectors = tsne.fit_transform(vectors)\n",
    "\n",
    "    x_vals = [v[0] for v in vectors]\n",
    "    y_vals = [v[1] for v in vectors]\n",
    "    return x_vals, y_vals, labels\n",
    "\n",
    "\n",
    "x_vals, y_vals, labels = reduce_dimensions(ft_model)\n",
    "plt.figure(figsize=(6, 6))\n",
    "plt.scatter(x_vals, y_vals)\n",
    "\n",
    "for i in range(len(labels)):\n",
    "    plt.annotate(labels[i], (x_vals[i], y_vals[i]))"
   ]
  },
  {
   "cell_type": "code",
   "execution_count": null,
   "metadata": {},
   "outputs": [],
   "source": [
    "docs_nihavent, counts_nihavent = get_notes_as_pitch_classes(file_list, makam=\"nihavent\")"
   ]
  },
  {
   "cell_type": "code",
   "execution_count": null,
   "metadata": {},
   "outputs": [],
   "source": [
    "counts_nihavent"
   ]
  },
  {
   "cell_type": "code",
   "execution_count": null,
   "metadata": {},
   "outputs": [],
   "source": [
    "ft_model_nihavent = FastText(sentences=docs_nihavent, vector_size=10, epochs=20, window=5)\n",
    "ft_model_nihavent.wv.most_similar(positive=[\"C\", \"A\"], negative=[\"G\"])  # D"
   ]
  },
  {
   "cell_type": "code",
   "execution_count": null,
   "metadata": {},
   "outputs": [],
   "source": [
    "x_vals_nihavent, y_nihavent, labels_nihavent = reduce_dimensions(ft_model_nihavent)\n",
    "plt.figure(figsize=(6, 6))\n",
    "plt.scatter(x_vals_nihavent, y_nihavent)\n",
    "\n",
    "for i in range(len(labels_nihavent)):\n",
    "    plt.annotate(labels_nihavent[i], (x_vals_nihavent[i], y_nihavent[i]))"
   ]
  }
 ],
 "metadata": {
  "kernelspec": {
   "display_name": "tfnew",
   "language": "python",
   "name": "python3"
  },
  "language_info": {
   "codemirror_mode": {
    "name": "ipython",
    "version": 3
   },
   "file_extension": ".py",
   "mimetype": "text/x-python",
   "name": "python",
   "nbconvert_exporter": "python",
   "pygments_lexer": "ipython3",
   "version": "3.9.16"
  },
  "orig_nbformat": 4
 },
 "nbformat": 4,
 "nbformat_minor": 2
}
