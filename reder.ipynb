{
 "cells": [
  {
   "cell_type": "code",
   "execution_count": 1,
   "metadata": {},
   "outputs": [],
   "source": [
    "from gensim.models import Word2Vec, FastText\n",
    "from note_reader import get_notes\n",
    "import matplotlib.pyplot as plt\n",
    "import numpy as np\n",
    "import glob"
   ]
  },
  {
   "cell_type": "code",
   "execution_count": 2,
   "metadata": {},
   "outputs": [],
   "source": [
    "plt.rcParams[\"font.family\"] = [\"Times\"]"
   ]
  },
  {
   "cell_type": "code",
   "execution_count": 3,
   "metadata": {},
   "outputs": [],
   "source": [
    "file_list = glob.glob(\"data/txt/*.txt\")"
   ]
  },
  {
   "cell_type": "code",
   "execution_count": 7,
   "metadata": {},
   "outputs": [],
   "source": [
    "docs, counts = get_notes(file_list, as_pitch_classes=True, return_counts=True)"
   ]
  },
  {
   "cell_type": "code",
   "execution_count": 8,
   "metadata": {},
   "outputs": [],
   "source": [
    "pitches_sorted = counts.most_common()\n",
    "pitches, pitch_counts = zip(*pitches_sorted)"
   ]
  },
  {
   "cell_type": "code",
   "execution_count": 10,
   "metadata": {},
   "outputs": [
    {
     "data": {
      "image/png": "[encoded data removed]",
      "text/plain": [
       "<Figure size 800x400 with 1 Axes>"
      ]
     },
     "metadata": {},
     "output_type": "display_data"
    }
   ],
   "source": [
    "fig = plt.figure(figsize=(8, 4))\n",
    "plt.title(\"Pitch Class Counts\", fontdict={\"fontsize\": 14})\n",
    "plt.xlabel(\"Pitches\")\n",
    "plt.xticks(rotation=-90)\n",
    "plt.ylabel(\"Counts\")\n",
    "plt.gca().yaxis.set_major_formatter(\n",
    "    plt.matplotlib.ticker.StrMethodFormatter(\"{x:,.0f}\"))\n",
    "plt.bar(pitches, pitch_counts)\n",
    "plt.tight_layout()\n",
    "plt.axvline(x=23.5, ymax=0.95, color=\"r\", linestyle=\"--\")\n",
    "plt.show()"
   ]
  },
  {
   "cell_type": "code",
   "execution_count": 18,
   "metadata": {},
   "outputs": [],
   "source": [
    "common_pitches = [x[0] for x in counts.most_common(24)]\n",
    "common_docs = []\n",
    "for doc in docs:\n",
    "    common_doc = [x for x in doc if x in common_pitches]\n",
    "    common_docs.append(common_doc)"
   ]
  },
  {
   "cell_type": "code",
   "execution_count": 19,
   "metadata": {},
   "outputs": [],
   "source": [
    "w2v_model = Word2Vec(sentences=common_docs, vector_size=50, epochs=10)"
   ]
  },
  {
   "cell_type": "code",
   "execution_count": 20,
   "metadata": {},
   "outputs": [
    {
     "data": {
      "text/plain": [
       "[('F#4', 0.4909704327583313),\n",
       " ('Eb4', 0.20498555898666382),\n",
       " ('Eb1', 0.1877521425485611),\n",
       " ('Ab4', 0.14933408796787262),\n",
       " ('E#4', 0.1300577074289322),\n",
       " ('Eb5', 0.12886422872543335),\n",
       " ('Bb5', 0.0690283477306366),\n",
       " ('A', 0.018412211909890175),\n",
       " ('C#4', -0.012664446607232094),\n",
       " ('Bb4', -0.014991480857133865)]"
      ]
     },
     "execution_count": 20,
     "metadata": {},
     "output_type": "execute_result"
    }
   ],
   "source": [
    "w2v_model.wv.most_similar(positive=[\"G\"])"
   ]
  },
  {
   "cell_type": "code",
   "execution_count": 21,
   "metadata": {},
   "outputs": [
    {
     "data": {
      "text/plain": [
       "[('F#4', 0.3111855685710907),\n",
       " ('E#4', 0.2296924740076065),\n",
       " ('Eb1', 0.1868053376674652),\n",
       " ('Bb5', 0.16920705139636993),\n",
       " ('Eb5', 0.1401526927947998),\n",
       " ('F#1', 0.06420011818408966),\n",
       " ('Db4', 0.053800083696842194),\n",
       " ('Eb4', -0.01434218417853117),\n",
       " ('Bb4', -0.014997382648289204),\n",
       " ('Ab4', -0.07291736453771591)]"
      ]
     },
     "execution_count": 21,
     "metadata": {},
     "output_type": "execute_result"
    }
   ],
   "source": [
    "w2v_model.wv.most_similar(positive=[\"G\", \"A\"], negative=[\"D\"])"
   ]
  },
  {
   "cell_type": "code",
   "execution_count": 22,
   "metadata": {},
   "outputs": [],
   "source": [
    "ft_model = FastText(sentences=common_docs, vector_size=50, epochs=10)"
   ]
  },
  {
   "cell_type": "code",
   "execution_count": 23,
   "metadata": {},
   "outputs": [
    {
     "data": {
      "text/plain": [
       "[('F#4', 0.35663896799087524),\n",
       " ('Bb5', 0.1575150191783905),\n",
       " ('Eb4', 0.136526957154274),\n",
       " ('Ab4', 0.13236011564731598),\n",
       " ('A', 0.07887759804725647),\n",
       " ('Eb1', 0.05018726363778114),\n",
       " ('E#4', 0.019995061680674553),\n",
       " ('Eb5', 0.015813186764717102),\n",
       " ('Bb4', -0.025019032880663872),\n",
       " ('E', -0.052847106009721756)]"
      ]
     },
     "execution_count": 23,
     "metadata": {},
     "output_type": "execute_result"
    }
   ],
   "source": [
    "ft_model.wv.most_similar(\"G\")"
   ]
  },
  {
   "cell_type": "code",
   "execution_count": 24,
   "metadata": {},
   "outputs": [
    {
     "data": {
      "text/plain": [
       "array([ 1.02374220e+00, -1.97383952e+00,  1.06859159e+00,  7.99570918e-01,\n",
       "        7.52611637e-01, -2.22514078e-01,  7.02536941e-01,  7.65622973e-01,\n",
       "       -1.28350711e+00, -1.13629654e-01,  5.08231938e-01, -4.14221346e-01,\n",
       "        6.14227772e-01,  5.19979782e-02, -2.41724586e+00, -3.13414812e-01,\n",
       "       -6.24885261e-01,  2.56824866e-03, -6.46050930e-01,  4.63194773e-02,\n",
       "        6.35360032e-02,  7.40504444e-01, -1.03733480e+00,  7.62615681e-01,\n",
       "       -3.15725893e-01, -1.08652198e+00, -6.08050823e-01, -2.35947371e+00,\n",
       "       -6.31081760e-01,  5.25685489e-01,  2.42927170e+00, -9.68690887e-02,\n",
       "        8.38299513e-01, -7.73007154e-01, -7.24575162e-01,  9.39708948e-01,\n",
       "       -2.48234361e-01, -2.94243723e-01, -1.22310328e+00, -1.54492810e-01,\n",
       "        1.09348702e+00, -2.63329697e+00, -5.37649870e-01,  7.63074994e-01,\n",
       "       -2.12372351e+00,  1.92238450e-01,  1.51379919e+00, -1.60337853e+00,\n",
       "        2.69709438e-01, -1.03184104e-01], dtype=float32)"
      ]
     },
     "execution_count": 24,
     "metadata": {},
     "output_type": "execute_result"
    }
   ],
   "source": [
    "ft_model.wv[\"G\"]"
   ]
  },
  {
   "cell_type": "code",
   "execution_count": 25,
   "metadata": {},
   "outputs": [
    {
     "data": {
      "text/plain": [
       "[('E#4', 0.24350367486476898),\n",
       " ('F#4', 0.21678979694843292),\n",
       " ('Bb5', 0.1754160374403),\n",
       " ('Db4', 0.10924383252859116),\n",
       " ('F#1', 0.07391013950109482),\n",
       " ('Eb1', 0.06479940563440323),\n",
       " ('Bb4', 0.03197569027543068),\n",
       " ('Eb5', 0.01612103171646595),\n",
       " ('G#4', 0.013133954256772995),\n",
       " ('Eb4', 0.007603759411722422)]"
      ]
     },
     "execution_count": 25,
     "metadata": {},
     "output_type": "execute_result"
    }
   ],
   "source": [
    "ft_model.wv.most_similar(positive=[\"G\", \"A\"], negative=[\"D\"])"
   ]
  },
  {
   "cell_type": "code",
   "execution_count": 26,
   "metadata": {},
   "outputs": [
    {
     "data": {
      "text/plain": [
       "69.10607"
      ]
     },
     "execution_count": 26,
     "metadata": {},
     "output_type": "execute_result"
    }
   ],
   "source": [
    "np.rad2deg(np.arccos(ft_model.wv.similarity(\"G\", \"F#4\")))"
   ]
  },
  {
   "cell_type": "code",
   "execution_count": null,
   "metadata": {},
   "outputs": [],
   "source": []
  }
 ],
 "metadata": {
  "kernelspec": {
   "display_name": "tfnew",
   "language": "python",
   "name": "python3"
  },
  "language_info": {
   "codemirror_mode": {
    "name": "ipython",
    "version": 3
   },
   "file_extension": ".py",
   "mimetype": "text/x-python",
   "name": "python",
   "nbconvert_exporter": "python",
   "pygments_lexer": "ipython3",
   "version": "3.9.16"
  },
  "orig_nbformat": 4
 },
 "nbformat": 4,
 "nbformat_minor": 2
}
