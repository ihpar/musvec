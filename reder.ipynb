{
 "cells": [
  {
   "cell_type": "code",
   "execution_count": 1,
   "metadata": {},
   "outputs": [],
   "source": [
    "from gensim.models import Word2Vec, FastText\n",
    "from note_reader import get_notes\n",
    "import matplotlib.pyplot as plt\n",
    "import numpy as np\n",
    "import glob"
   ]
  },
  {
   "cell_type": "code",
   "execution_count": 2,
   "metadata": {},
   "outputs": [],
   "source": [
    "plt.rcParams[\"font.family\"] = [\"Times\"]\n",
    "UNK_TAG = \"<UNK>\""
   ]
  },
  {
   "cell_type": "code",
   "execution_count": 3,
   "metadata": {},
   "outputs": [],
   "source": [
    "file_list = glob.glob(\"data/txt/*.txt\")"
   ]
  },
  {
   "cell_type": "code",
   "execution_count": 4,
   "metadata": {},
   "outputs": [],
   "source": [
    "docs, counts = get_notes(file_list, as_pitch_classes=True, return_counts=True)"
   ]
  },
  {
   "cell_type": "code",
   "execution_count": 5,
   "metadata": {},
   "outputs": [],
   "source": [
    "pitches_sorted = counts.most_common()\n",
    "pitches, pitch_counts = zip(*pitches_sorted)"
   ]
  },
  {
   "cell_type": "code",
   "execution_count": 6,
   "metadata": {},
   "outputs": [
    {
     "data": {
      "image/png": "[encoded data removed]",
      "text/plain": [
       "<Figure size 800x400 with 1 Axes>"
      ]
     },
     "metadata": {},
     "output_type": "display_data"
    }
   ],
   "source": [
    "fig = plt.figure(figsize=(8, 4))\n",
    "plt.title(\"Pitch Class Counts\", fontdict={\"fontsize\": 14})\n",
    "plt.xlabel(\"Pitch classes\")\n",
    "plt.xticks(rotation=-90)\n",
    "plt.ylabel(\"Counts\")\n",
    "plt.gca().yaxis.set_major_formatter(\n",
    "    plt.matplotlib.ticker.StrMethodFormatter(\"{x:,.0f}\"))\n",
    "plt.bar(pitches, pitch_counts)\n",
    "plt.tight_layout()\n",
    "plt.axvline(x=23.5, ymax=0.95, color=\"r\", linestyle=\"--\")\n",
    "plt.text(22.5, 100000, \"threshold\", rotation=90, color=\"r\")\n",
    "plt.show()"
   ]
  },
  {
   "cell_type": "code",
   "execution_count": 7,
   "metadata": {},
   "outputs": [],
   "source": [
    "common_pitches = [x[0] for x in counts.most_common(24)]\n",
    "common_docs = []\n",
    "for doc in docs:\n",
    "    common_doc = [x if x in common_pitches else UNK_TAG for x in doc]\n",
    "    common_docs.append(common_doc)"
   ]
  },
  {
   "cell_type": "code",
   "execution_count": 21,
   "metadata": {},
   "outputs": [
    {
     "data": {
      "text/plain": [
       "[('D', 0.23865756392478943),\n",
       " ('Bb1', 0.2296978086233139),\n",
       " ('Db4', 0.2076379805803299)]"
      ]
     },
     "execution_count": 21,
     "metadata": {},
     "output_type": "execute_result"
    }
   ],
   "source": [
    "w2v_model = Word2Vec(sentences=common_docs, vector_size=20, epochs=10, window=4)\n",
    "w2v_model.wv.most_similar(positive=[\"C\", \"A\"], negative=[\"G\"], topn=3) # D"
   ]
  },
  {
   "cell_type": "code",
   "execution_count": 22,
   "metadata": {},
   "outputs": [
    {
     "data": {
      "text/plain": [
       "[('F#4', 0.48194420337677),\n",
       " ('Ab4', 0.254323810338974),\n",
       " ('Eb4', 0.2507176995277405),\n",
       " ('Eb1', 0.22854338586330414),\n",
       " ('Eb5', 0.13172194361686707),\n",
       " ('Bb5', 0.12587963044643402),\n",
       " ('E#4', 0.09704025834798813),\n",
       " ('A', 0.035312797874212265),\n",
       " ('Ab5', 0.02530495822429657),\n",
       " ('D', -0.09909392148256302)]"
      ]
     },
     "execution_count": 22,
     "metadata": {},
     "output_type": "execute_result"
    }
   ],
   "source": [
    "w2v_model.wv.most_similar(\"G\")"
   ]
  },
  {
   "cell_type": "code",
   "execution_count": 23,
   "metadata": {},
   "outputs": [
    {
     "data": {
      "text/plain": [
       "0.035312817"
      ]
     },
     "execution_count": 23,
     "metadata": {},
     "output_type": "execute_result"
    }
   ],
   "source": [
    "w2v_model.wv.similarity(\"G\", \"A\")"
   ]
  },
  {
   "cell_type": "markdown",
   "metadata": {},
   "source": [
    "# Find analogies\n",
    "\n",
    "`model.most_similar(positive=[\"woman\", \"king\"], negative=[\"man\"], topn = 1) --> \"queen\"`"
   ]
  },
  {
   "cell_type": "code",
   "execution_count": 24,
   "metadata": {},
   "outputs": [
    {
     "data": {
      "text/plain": [
       "[('D', 0.23865756392478943),\n",
       " ('Bb1', 0.2296978086233139),\n",
       " ('Db4', 0.2076379805803299),\n",
       " ('E', 0.20417320728302002),\n",
       " ('G#4', 0.1345554143190384),\n",
       " ('B', 0.10277970135211945),\n",
       " ('A#4', 0.10027698427438736),\n",
       " ('F#5', 0.07763787358999252),\n",
       " ('Eb5', 0.018352085724473),\n",
       " ('Bb5', 0.017331765964627266)]"
      ]
     },
     "execution_count": 24,
     "metadata": {},
     "output_type": "execute_result"
    }
   ],
   "source": [
    "w2v_model.wv.most_similar(positive=[\"C\", \"A\"], negative=[\"G\"]) # D"
   ]
  },
  {
   "cell_type": "code",
   "execution_count": 38,
   "metadata": {},
   "outputs": [
    {
     "data": {
      "text/plain": [
       "[('D', 0.5452758073806763),\n",
       " ('Bb1', 0.423415869474411),\n",
       " ('B', 0.4194720387458801),\n",
       " ('E', 0.32279717922210693),\n",
       " ('Db4', 0.25284790992736816),\n",
       " ('G#4', 0.19479401409626007),\n",
       " ('F#1', 0.07765946537256241),\n",
       " ('Eb5', 0.045280199497938156),\n",
       " ('A#4', 0.040263812988996506),\n",
       " ('Bb5', -0.0744098573923111)]"
      ]
     },
     "execution_count": 38,
     "metadata": {},
     "output_type": "execute_result"
    }
   ],
   "source": [
    "ft_model = FastText(sentences=common_docs, vector_size=10, epochs=20, window=5)\n",
    "ft_model.wv.most_similar(positive=[\"C\", \"A\"], negative=[\"G\"]) # D"
   ]
  },
  {
   "cell_type": "code",
   "execution_count": 39,
   "metadata": {},
   "outputs": [
    {
     "data": {
      "text/plain": [
       "[('F#4', 0.7947971820831299),\n",
       " ('E#4', 0.32528552412986755),\n",
       " ('A', 0.3252469301223755),\n",
       " ('Eb4', 0.3119242489337921),\n",
       " ('Ab4', 0.305243581533432),\n",
       " ('Bb5', 0.29659807682037354),\n",
       " ('Bb4', 0.17049190402030945),\n",
       " ('F#1', 0.1293639838695526),\n",
       " ('Ab5', 0.03770500048995018),\n",
       " ('C#4', 0.011436238884925842)]"
      ]
     },
     "execution_count": 39,
     "metadata": {},
     "output_type": "execute_result"
    }
   ],
   "source": [
    "ft_model.wv.most_similar(\"G\")"
   ]
  },
  {
   "cell_type": "code",
   "execution_count": 40,
   "metadata": {},
   "outputs": [
    {
     "data": {
      "text/plain": [
       "array([-0.05784852,  0.3094884 , -1.2806416 ,  0.86850876, -0.10262622,\n",
       "        3.82322   , -1.956597  ,  1.0811907 ,  2.202882  ,  0.20097518],\n",
       "      dtype=float32)"
      ]
     },
     "execution_count": 40,
     "metadata": {},
     "output_type": "execute_result"
    }
   ],
   "source": [
    "ft_model.wv[\"G\"]"
   ]
  },
  {
   "cell_type": "code",
   "execution_count": 41,
   "metadata": {},
   "outputs": [
    {
     "data": {
      "text/plain": [
       "[('D', 0.5452758073806763),\n",
       " ('Bb1', 0.423415869474411),\n",
       " ('B', 0.4194720387458801),\n",
       " ('E', 0.32279717922210693),\n",
       " ('Db4', 0.25284790992736816),\n",
       " ('G#4', 0.19479401409626007),\n",
       " ('F#1', 0.07765946537256241),\n",
       " ('Eb5', 0.045280199497938156),\n",
       " ('A#4', 0.040263812988996506),\n",
       " ('Bb5', -0.0744098573923111)]"
      ]
     },
     "execution_count": 41,
     "metadata": {},
     "output_type": "execute_result"
    }
   ],
   "source": [
    "ft_model.wv.most_similar(positive=[\"C\", \"A\"], negative=[\"G\"]) # D"
   ]
  },
  {
   "cell_type": "code",
   "execution_count": 42,
   "metadata": {},
   "outputs": [
    {
     "data": {
      "text/plain": [
       "37.3639"
      ]
     },
     "execution_count": 42,
     "metadata": {},
     "output_type": "execute_result"
    }
   ],
   "source": [
    "np.rad2deg(np.arccos(ft_model.wv.similarity(\"G\", \"F#4\")))"
   ]
  },
  {
   "cell_type": "code",
   "execution_count": null,
   "metadata": {},
   "outputs": [],
   "source": []
  }
 ],
 "metadata": {
  "kernelspec": {
   "display_name": "tfnew",
   "language": "python",
   "name": "python3"
  },
  "language_info": {
   "codemirror_mode": {
    "name": "ipython",
    "version": 3
   },
   "file_extension": ".py",
   "mimetype": "text/x-python",
   "name": "python",
   "nbconvert_exporter": "python",
   "pygments_lexer": "ipython3",
   "version": "3.9.16"
  },
  "orig_nbformat": 4
 },
 "nbformat": 4,
 "nbformat_minor": 2
}
