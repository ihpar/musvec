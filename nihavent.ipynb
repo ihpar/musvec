{
 "cells": [
  {
   "cell_type": "code",
   "execution_count": 1,
   "metadata": {},
   "outputs": [],
   "source": [
    "from note_reader import get_notes_as_pitch_classes\n",
    "from wv_utils import create_angle_matrix\n",
    "from gensim.models import FastText\n",
    "import matplotlib.pyplot as plt\n",
    "import pandas as pd\n",
    "import glob"
   ]
  },
  {
   "cell_type": "code",
   "execution_count": 2,
   "metadata": {},
   "outputs": [],
   "source": [
    "plt.rcParams[\"font.family\"] = [\"Times\"]\n",
    "UNK_TAG = \"<UNK>\"\n",
    "file_list = glob.glob(\"data/txt/*.txt\")"
   ]
  },
  {
   "cell_type": "code",
   "execution_count": 3,
   "metadata": {},
   "outputs": [],
   "source": [
    "docs, counts = get_notes_as_pitch_classes(file_list, makam=\"nihavent\")"
   ]
  },
  {
   "cell_type": "code",
   "execution_count": 4,
   "metadata": {},
   "outputs": [
    {
     "data": {
      "text/plain": [
       "[('D', 10493),\n",
       " ('G', 8833),\n",
       " ('A#4', 7567),\n",
       " ('A', 7324),\n",
       " ('C', 6747),\n",
       " ('D#4', 5662),\n",
       " ('F', 3273),\n",
       " ('F#4', 2651),\n",
       " ('C#4', 442),\n",
       " ('B', 306),\n",
       " ('D#8', 304),\n",
       " ('E', 241),\n",
       " ('A#8', 132),\n",
       " ('D#5', 96),\n",
       " ('G#4', 71),\n",
       " ('F#5', 67),\n",
       " ('C#5', 32),\n",
       " ('G#5', 16),\n",
       " ('A#5', 11)]"
      ]
     },
     "execution_count": 4,
     "metadata": {},
     "output_type": "execute_result"
    }
   ],
   "source": [
    "counts.most_common()"
   ]
  },
  {
   "cell_type": "code",
   "execution_count": 5,
   "metadata": {},
   "outputs": [
    {
     "data": {
      "text/plain": [
       "[('B', 0.441683292388916),\n",
       " ('D#4', 0.4077099561691284),\n",
       " ('C#5', 0.2910745143890381),\n",
       " ('A#4', 0.236402228474617),\n",
       " ('C#4', 0.21386753022670746),\n",
       " ('F', 0.1352767050266266),\n",
       " ('A#5', 0.03070070967078209),\n",
       " ('E', -0.052595820277929306),\n",
       " ('G#4', -0.09144148230552673),\n",
       " ('F#5', -0.1065918579697609)]"
      ]
     },
     "execution_count": 5,
     "metadata": {},
     "output_type": "execute_result"
    }
   ],
   "source": [
    "ft_model = FastText(sentences=docs, vector_size=8, epochs=50, window=5)\n",
    "wv = ft_model.wv\n",
    "wv.most_similar(positive=[\"C\", \"D\"], negative=[\"G\"])  # D#4"
   ]
  },
  {
   "cell_type": "code",
   "execution_count": 6,
   "metadata": {},
   "outputs": [],
   "source": [
    "angles_dict = create_angle_matrix(wv)\n",
    "df_nihavent = pd.DataFrame.from_dict(angles_dict)\n",
    "# df_nihavent.to_excel(\"results/angles_nihavent.xlsx\")"
   ]
  }
 ],
 "metadata": {
  "kernelspec": {
   "display_name": "tfnew",
   "language": "python",
   "name": "python3"
  },
  "language_info": {
   "codemirror_mode": {
    "name": "ipython",
    "version": 3
   },
   "file_extension": ".py",
   "mimetype": "text/x-python",
   "name": "python",
   "nbconvert_exporter": "python",
   "pygments_lexer": "ipython3",
   "version": "3.9.16"
  },
  "orig_nbformat": 4
 },
 "nbformat": 4,
 "nbformat_minor": 2
}
