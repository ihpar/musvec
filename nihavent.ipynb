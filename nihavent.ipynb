{
 "cells": [
  {
   "cell_type": "code",
   "execution_count": 8,
   "metadata": {},
   "outputs": [],
   "source": [
    "from gensim.models import FastText\n",
    "from sklearn.manifold import TSNE\n",
    "from note_reader import get_notes_as_pitch_classes\n",
    "from wv_utils import angle_between\n",
    "import matplotlib.pyplot as plt\n",
    "import pandas as pd\n",
    "import numpy as np\n",
    "import glob"
   ]
  },
  {
   "cell_type": "code",
   "execution_count": 2,
   "metadata": {},
   "outputs": [],
   "source": [
    "plt.rcParams[\"font.family\"] = [\"Times\"]\n",
    "UNK_TAG = \"<UNK>\"\n",
    "file_list = glob.glob(\"data/txt/*.txt\")"
   ]
  },
  {
   "cell_type": "code",
   "execution_count": 3,
   "metadata": {},
   "outputs": [],
   "source": [
    "docs, counts = get_notes_as_pitch_classes(file_list, makam=\"nihavent\")"
   ]
  },
  {
   "cell_type": "code",
   "execution_count": 6,
   "metadata": {},
   "outputs": [
    {
     "data": {
      "text/plain": [
       "[('D', 10493),\n",
       " ('G', 8833),\n",
       " ('A#4', 7567),\n",
       " ('A', 7324),\n",
       " ('C', 6747),\n",
       " ('D#4', 5662),\n",
       " ('F', 3273),\n",
       " ('F#4', 2651),\n",
       " ('C#4', 442),\n",
       " ('B', 306),\n",
       " ('D#8', 304),\n",
       " ('E', 241),\n",
       " ('A#8', 132),\n",
       " ('D#5', 96),\n",
       " ('G#4', 71),\n",
       " ('F#5', 67),\n",
       " ('C#5', 32),\n",
       " ('G#5', 16),\n",
       " ('A#5', 11)]"
      ]
     },
     "execution_count": 6,
     "metadata": {},
     "output_type": "execute_result"
    }
   ],
   "source": [
    "counts.most_common()"
   ]
  },
  {
   "cell_type": "code",
   "execution_count": 9,
   "metadata": {},
   "outputs": [
    {
     "data": {
      "text/plain": [
       "[('D#4', 0.4183763265609741),\n",
       " ('B', 0.35199740529060364),\n",
       " ('A#4', 0.24067234992980957),\n",
       " ('C#5', 0.21032927930355072),\n",
       " ('F', 0.11454134434461594),\n",
       " ('C#4', 0.043371450155973434),\n",
       " ('E', -0.015814026817679405),\n",
       " ('G#4', -0.04347018897533417),\n",
       " ('A#5', -0.04624444618821144),\n",
       " ('F#5', -0.07450830191373825)]"
      ]
     },
     "execution_count": 9,
     "metadata": {},
     "output_type": "execute_result"
    }
   ],
   "source": [
    "ft_model = FastText(sentences=docs, vector_size=8, epochs=50, window=5)\n",
    "wv = ft_model.wv\n",
    "wv.most_similar(positive=[\"C\", \"D\"], negative=[\"G\"])  # D#4"
   ]
  },
  {
   "cell_type": "code",
   "execution_count": 10,
   "metadata": {},
   "outputs": [],
   "source": [
    "angles_dict = {}\n",
    "\n",
    "for current in wv.key_to_index:\n",
    "    # if current == UNK_TAG:\n",
    "    #     continue\n",
    "\n",
    "    angles_dict[current] = {}\n",
    "    for pitch in wv.key_to_index:\n",
    "        # if pitch == UNK_TAG:\n",
    "        #     continue\n",
    "\n",
    "        angle = round(angle_between(wv[current], wv[pitch]), 2)\n",
    "        angles_dict[current][pitch] = angle\n",
    "\n",
    "df_nihavent = pd.DataFrame.from_dict(angles_dict)\n",
    "df_nihavent.to_excel(\"results/angles_nihavent.xlsx\")"
   ]
  }
 ],
 "metadata": {
  "kernelspec": {
   "display_name": "tfnew",
   "language": "python",
   "name": "python3"
  },
  "language_info": {
   "codemirror_mode": {
    "name": "ipython",
    "version": 3
   },
   "file_extension": ".py",
   "mimetype": "text/x-python",
   "name": "python",
   "nbconvert_exporter": "python",
   "pygments_lexer": "ipython3",
   "version": "3.9.16"
  },
  "orig_nbformat": 4
 },
 "nbformat": 4,
 "nbformat_minor": 2
}
