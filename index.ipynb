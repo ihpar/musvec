{
 "cells": [
  {
   "cell_type": "code",
   "execution_count": null,
   "metadata": {},
   "outputs": [],
   "source": [
    "from wv_utils import reduce_dimensions, create_angle_matrix\n",
    "from note_reader import get_notes_as_pitch_classes\n",
    "from gensim.models import FastText\n",
    "import matplotlib.pyplot as plt\n",
    "import seaborn as sns\n",
    "import pandas as pd\n",
    "import glob"
   ]
  },
  {
   "cell_type": "code",
   "execution_count": null,
   "metadata": {},
   "outputs": [],
   "source": [
    "plt.rcParams[\"font.family\"] = [\"Times\"]\n",
    "SAVE_FIGS = True\n",
    "UNK_TAG = \"<UNK>\""
   ]
  },
  {
   "cell_type": "code",
   "execution_count": null,
   "metadata": {},
   "outputs": [],
   "source": [
    "file_list = glob.glob(\"data/txt/*.txt\")"
   ]
  },
  {
   "cell_type": "code",
   "execution_count": null,
   "metadata": {},
   "outputs": [],
   "source": [
    "docs, counts = get_notes_as_pitch_classes(file_list)"
   ]
  },
  {
   "cell_type": "code",
   "execution_count": null,
   "metadata": {},
   "outputs": [],
   "source": [
    "pitches_sorted = counts.most_common()\n",
    "pitches, pitch_counts = zip(*pitches_sorted)"
   ]
  },
  {
   "cell_type": "code",
   "execution_count": null,
   "metadata": {},
   "outputs": [],
   "source": [
    "THRESHOLD = 20"
   ]
  },
  {
   "cell_type": "code",
   "execution_count": null,
   "metadata": {},
   "outputs": [],
   "source": [
    "fig = plt.figure(figsize=(6, 4))\n",
    "plt.title(\"Pitch-class counts\", fontdict={\"fontsize\": 14})\n",
    "plt.xlabel(\"Pitch classes\")\n",
    "plt.xticks(rotation=-90)\n",
    "plt.ylabel(\"Counts\")\n",
    "plt.gca().yaxis.set_major_formatter(\n",
    "    plt.matplotlib.ticker.StrMethodFormatter(\"{x:,.0f}\"))\n",
    "plt.bar(pitches, pitch_counts)\n",
    "plt.tight_layout()\n",
    "plt.axvline(x=THRESHOLD-0.5, ymax=0.95, color=\"r\",\n",
    "            linestyle=\"--\", linewidth=0.5)\n",
    "plt.text(THRESHOLD-1.2, 100000, \"cutoff\", rotation=90, color=\"r\")\n",
    "plt.tight_layout()\n",
    "plt.show()\n",
    "if SAVE_FIGS:\n",
    "    fig.savefig(\"results/overall_cutoff.pdf\")"
   ]
  },
  {
   "cell_type": "code",
   "execution_count": null,
   "metadata": {},
   "outputs": [],
   "source": [
    "common_pitches = [x[0] for x in counts.most_common(THRESHOLD)]\n",
    "common_docs = []\n",
    "for doc in docs:\n",
    "    common_doc = [x if x in common_pitches else UNK_TAG for x in doc]\n",
    "    common_docs.append(common_doc)"
   ]
  },
  {
   "cell_type": "markdown",
   "metadata": {},
   "source": [
    "# FastText model\n"
   ]
  },
  {
   "cell_type": "code",
   "execution_count": null,
   "metadata": {},
   "outputs": [],
   "source": [
    "# cb = callback()\n",
    "ft_model = FastText(sentences=common_docs, vector_size=10,\n",
    "                    epochs=500, window=5, seed=42)"
   ]
  },
  {
   "cell_type": "code",
   "execution_count": null,
   "metadata": {},
   "outputs": [],
   "source": [
    "wv = ft_model.wv\n",
    "wv.most_similar(positive=[\"C\", \"A\"], negative=[\"G\"])  # D"
   ]
  },
  {
   "cell_type": "code",
   "execution_count": null,
   "metadata": {},
   "outputs": [],
   "source": [
    "angles_dict = create_angle_matrix(wv)\n",
    "df = pd.DataFrame.from_dict(angles_dict)\n",
    "if SAVE_FIGS:\n",
    "    df.to_excel(\"results/angles.xlsx\")"
   ]
  },
  {
   "cell_type": "code",
   "execution_count": null,
   "metadata": {},
   "outputs": [],
   "source": [
    "x_vals, y_vals, labels = reduce_dimensions(wv)\n",
    "plt.figure(figsize=(6, 6))\n",
    "plt.scatter(x_vals, y_vals)\n",
    "\n",
    "for i in range(len(labels)):\n",
    "    plt.annotate(labels[i], (x_vals[i], y_vals[i]))\n",
    "\n",
    "plt.show()"
   ]
  },
  {
   "cell_type": "code",
   "execution_count": null,
   "metadata": {},
   "outputs": [],
   "source": [
    "fig, ax = plt.subplots(figsize=(11, 8))\n",
    "hm = sns.heatmap(df, cmap=\"coolwarm\", annot=True, fmt=\",.0f\",\n",
    "                 linewidths=0.5, cbar_kws={\"shrink\": 0.8})\n",
    "hm.set(title=\"Pitch class correlation for the entire dataset\")\n",
    "ax.collections[0].colorbar.set_label(\"Angle (in degrees)\")\n",
    "ax.xaxis.tick_top()\n",
    "plt.show()\n",
    "if SAVE_FIGS:\n",
    "    fig.savefig(\"results/overall_corr.pdf\")"
   ]
  }
 ],
 "metadata": {
  "kernelspec": {
   "display_name": "tfnew",
   "language": "python",
   "name": "python3"
  },
  "language_info": {
   "codemirror_mode": {
    "name": "ipython",
    "version": 3
   },
   "file_extension": ".py",
   "mimetype": "text/x-python",
   "name": "python",
   "nbconvert_exporter": "python",
   "pygments_lexer": "ipython3",
   "version": "3.9.16"
  },
  "orig_nbformat": 4
 },
 "nbformat": 4,
 "nbformat_minor": 2
}
